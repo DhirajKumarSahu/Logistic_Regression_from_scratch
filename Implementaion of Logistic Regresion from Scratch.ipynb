{
 "cells": [
  {
   "cell_type": "markdown",
   "id": "brief-citizen",
   "metadata": {},
   "source": [
    "### Importing Libraries"
   ]
  },
  {
   "cell_type": "code",
   "execution_count": 1,
   "id": "going-royalty",
   "metadata": {},
   "outputs": [],
   "source": [
    "import numpy as np\n",
    "import pandas as pd\n",
    "from sklearn.datasets import make_classification # to create sample data\n",
    "from sklearn.model_selection import train_test_split # to split data into test and train\n",
    "from sklearn.preprocessing import StandardScaler # to Standardize the data\n",
    "from sklearn import linear_model # for comparing the results\n",
    "from tqdm import tqdm\n",
    "import matplotlib.pyplot as plt"
   ]
  },
  {
   "cell_type": "markdown",
   "id": "expensive-dragon",
   "metadata": {},
   "source": [
    "### Preparing the Dataset"
   ]
  },
  {
   "cell_type": "code",
   "execution_count": 2,
   "id": "criminal-forge",
   "metadata": {},
   "outputs": [],
   "source": [
    "X, y = make_classification(n_samples=50000, n_features=15, n_informative=10, n_redundant=5,\n",
    "                           n_classes=2, weights=[0.7], class_sep=0.7, random_state=15)\n",
    "X_train, X_test, y_train, y_test = train_test_split(X, y, test_size=0.25, random_state=15)\n",
    "scaler = StandardScaler()\n",
    "X_train = scaler.fit_transform(X_train)\n",
    "X_test = scaler.transform(X_test)"
   ]
  },
  {
   "cell_type": "markdown",
   "id": "beginning-harmony",
   "metadata": {},
   "source": [
    "### Implementation of Logistic regression"
   ]
  },
  {
   "cell_type": "code",
   "execution_count": 3,
   "id": "mighty-berry",
   "metadata": {},
   "outputs": [],
   "source": [
    "class logistic_regression():\n",
    "    def __init__(self, learning_rate, regularization_constant, verbose = True):\n",
    "        self.learning_rate = learning_rate\n",
    "        self.regularization_constant = regularization_constant\n",
    "        self.weights = 0\n",
    "        self.bais = 0\n",
    "        self.verbose = verbose\n",
    "        \n",
    "    def log_loss(self, y_true, y_pred):\n",
    "        return -1 * ((y_true)*np.log10(y_pred) + (1-y_true)*np.log10(1-y_pred))\n",
    "        \n",
    "    def sigmoid(self, x):\n",
    "        return 1/(1 + np.exp(-x))\n",
    "    \n",
    "    def gradient_weights(self, weights, x, y, bais ):\n",
    "        return (self.sigmoid(weights.dot(x) + bais) - y)*x\n",
    "    \n",
    "    def gradient_bais(self, weights, x, y, bais):\n",
    "         return (self.sigmoid(weights.dot(x) + bais) - y)\n",
    "        \n",
    "    def fit(self, x_train, y_train, epoch): \n",
    "        weights = np.zeros(x_train.shape[1])\n",
    "        bais = 0\n",
    "        n = len(y_train)\n",
    "        mean_error = []\n",
    "        for _ in tqdm(range(epoch)):\n",
    "            dw, db = 0, 0\n",
    "            for x,y in zip(x_train, y_train):\n",
    "                dw += self.gradient_weights(weights, x, y, bais)\n",
    "                db += self.gradient_bais(weights, x, y, bais)\n",
    "            weights = weights - self.learning_rate * ( dw + self.regularization_constant)\n",
    "            bais = bais -  self.learning_rate * db\n",
    "            if self.verbose == True:\n",
    "                a = []\n",
    "                for x,y in zip(x_train, y_train):\n",
    "                    a.append(self.log_loss( y, self.sigmoid(weights.dot(x) + bais)))\n",
    "                mean_error.append(sum(a)/len(a))    \n",
    "        self.weights = weights\n",
    "        self.bais = bais\n",
    "        if self.verbose == True:\n",
    "            return mean_error\n",
    "    \n",
    "    def predict(self, x_test):\n",
    "        return self.sigmoid(self.weights.dot(x_test) + self.bais)\n"
   ]
  },
  {
   "cell_type": "code",
   "execution_count": 4,
   "id": "enclosed-spanking",
   "metadata": {},
   "outputs": [],
   "source": [
    "lr = logistic_regression(learning_rate = 0.00001, regularization_constant = 0.0001, verbose = True) "
   ]
  },
  {
   "cell_type": "code",
   "execution_count": 5,
   "id": "hidden-electron",
   "metadata": {},
   "outputs": [
    {
     "name": "stderr",
     "output_type": "stream",
     "text": [
      "100%|██████████████████████████████████████████████████████████████████████████████████| 40/40 [00:40<00:00,  1.02s/it]\n"
     ]
    }
   ],
   "source": [
    " m = lr.fit(X_train, y_train, epoch = 40)"
   ]
  },
  {
   "cell_type": "markdown",
   "id": "bronze-companion",
   "metadata": {},
   "source": [
    "### Plotting the Log Loss after every epoch"
   ]
  },
  {
   "cell_type": "code",
   "execution_count": 6,
   "id": "generic-timeline",
   "metadata": {},
   "outputs": [
    {
     "data": {
      "image/png": "[encoded data removed]",
      "text/plain": [
       "<Figure size 640x480 with 1 Axes>"
      ]
     },
     "metadata": {},
     "output_type": "display_data"
    }
   ],
   "source": [
    "plt.plot(m)\n",
    "plt.xlabel('Epochs')\n",
    "plt.ylabel('Log Loss')\n",
    "plt.title('Log Loss vs Epochs')\n",
    "plt.show()"
   ]
  },
  {
   "cell_type": "markdown",
   "id": "searching-stephen",
   "metadata": {},
   "source": [
    "### Performance on Test Data"
   ]
  },
  {
   "cell_type": "code",
   "execution_count": 7,
   "id": "environmental-harassment",
   "metadata": {},
   "outputs": [
    {
     "name": "stdout",
     "output_type": "stream",
     "text": [
      "Average Log Loss over the test Data = 0.1720578667488857\n"
     ]
    }
   ],
   "source": [
    "a = []\n",
    "for x,y_true in zip(X_test, y_test):\n",
    "    y_pred =  lr.predict(x)\n",
    "    loss = -1 * ((y_true)*np.log10(y_pred) + (1-y_true)*np.log10(1-y_pred))\n",
    "    a.append(loss)\n",
    "print('Average Log Loss over the test Data =',sum(a)/len(a))"
   ]
  },
  {
   "cell_type": "markdown",
   "id": "inclusive-overhead",
   "metadata": {},
   "source": [
    "### Comparing with Sklearns implementation"
   ]
  },
  {
   "cell_type": "code",
   "execution_count": 8,
   "id": "welsh-dominant",
   "metadata": {},
   "outputs": [],
   "source": [
    "clf = linear_model.SGDClassifier(eta0=0.00001, alpha=0.0001, loss='log', random_state=15, penalty='l2', tol=1e-3, learning_rate='constant')"
   ]
  },
  {
   "cell_type": "code",
   "execution_count": 9,
   "id": "virgin-museum",
   "metadata": {},
   "outputs": [
    {
     "data": {
      "text/plain": [
       "SGDClassifier(eta0=1e-05, learning_rate='constant', loss='log', random_state=15)"
      ]
     },
     "execution_count": 9,
     "metadata": {},
     "output_type": "execute_result"
    }
   ],
   "source": [
    "clf.fit(X_train, y_train)"
   ]
  },
  {
   "cell_type": "code",
   "execution_count": 11,
   "id": "hybrid-words",
   "metadata": {},
   "outputs": [
    {
     "name": "stdout",
     "output_type": "stream",
     "text": [
      "Average Log Loss over the test Data = 0.17205253159713674\n"
     ]
    }
   ],
   "source": [
    "a = []\n",
    "predictions = clf.predict_proba(X_test)\n",
    "for i,y_true in zip(predictions[:,1:], y_test): # getting the probabilities for class 1\n",
    "    y_pred = i[0]\n",
    "    loss = -1 * ((y_true)*np.log10(y_pred) + (1-y_true)*np.log10(1-y_pred))\n",
    "    a.append(loss)\n",
    "print('Average Log Loss over the test Data =',sum(a)/len(a))"
   ]
  },
  {
   "cell_type": "code",
   "execution_count": null,
   "id": "addressed-rhythm",
   "metadata": {},
   "outputs": [],
   "source": []
  }
 ],
 "metadata": {
  "kernelspec": {
   "display_name": "Python 3",
   "language": "python",
   "name": "python3"
  },
  "language_info": {
   "codemirror_mode": {
    "name": "ipython",
    "version": 3
   },
   "file_extension": ".py",
   "mimetype": "text/x-python",
   "name": "python",
   "nbconvert_exporter": "python",
   "pygments_lexer": "ipython3",
   "version": "3.7.3"
  }
 },
 "nbformat": 4,
 "nbformat_minor": 5
}
